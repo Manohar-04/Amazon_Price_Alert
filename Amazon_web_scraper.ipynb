{
 "cells": [
  {
   "cell_type": "code",
   "execution_count": 3,
   "id": "748d297a-ec8e-4ff1-a0c1-43b5df6027fe",
   "metadata": {},
   "outputs": [],
   "source": [
    "from bs4 import BeautifulSoup\n",
    "import requests\n"
   ]
  },
  {
   "cell_type": "code",
   "execution_count": 22,
   "id": "1389cc05-9acd-4f52-a0c3-f5b9726fa73a",
   "metadata": {},
   "outputs": [],
   "source": [
    "url='https://www.amazon.in/DUDEME-Coffee-Repeat-Programmer-Developer/dp/B08GJBS9NV/ref=sr_1_4?crid=2ML3C4VE5WN46&dib=eyJ2IjoiMSJ9.46qP4_2IROyCUU1GCDycFPKgaerTNUFDxGMEBRU1l8V_FJsA7cuo0qEaNbIOuHv1fe9OA44DxLPaukmzidArH6fCn69r0nMQUdqKxYkr5B1yJXUrbfy6GQ5cX4SXtjFKNT7k1tqrwsu7eh7u9j61fUnZ0CwnFOC_WkA9jFX1wz8uibkHiVUDqF-6M42xmePQfl-R0t-XY0PoeSwuMBv5zFlKjTtyDOo6rvR2TLs2hpzw9Y7iXsJ2Q758g360w88LvYPC_DKUtZ6sQEZMDu3HpqCcGEE0fr2f1GW-Ccy5znE.nts-IGOhXct--e8OrzZI_9eB7-eAziK2b5NFFC2TRlg&dib_tag=se&keywords=data+engineer+t+shirt&qid=1720540145&sprefix=dataengineer+tshirt%2Caps%2C267&sr=8-4'\n",
    "headers={\"User-Agent\": \"Mozilla/5.0 (Windows NT 10.0; Win64; x64) AppleWebKit/537.36 (KHTML, like Gecko) Chrome/126.0.0.0 Safari/537.36\"}\n",
    "page=requests.get(url,headers=headers)\n",
    "soup1=BeautifulSoup(page.content,'html.parser')\n",
    "soup2=BeautifulSoup(soup1.prettify(),'html.parser')"
   ]
  },
  {
   "cell_type": "code",
   "execution_count": 23,
   "id": "f0b61e5b-6a8a-4c97-80db-0134ba121677",
   "metadata": {},
   "outputs": [
    {
     "name": "stdout",
     "output_type": "stream",
     "text": [
      "DUDEME Code Coffee Repeat T-Shirt\n"
     ]
    }
   ],
   "source": [
    "title=soup2.find(id='productTitle').get_text()\n",
    "product=title.strip().split(',')[0]\n",
    "print(product)\n"
   ]
  },
  {
   "cell_type": "code",
   "execution_count": 30,
   "id": "b7a7de44-43bc-4a92-94b6-a39bbadf2252",
   "metadata": {},
   "outputs": [
    {
     "name": "stdout",
     "output_type": "stream",
     "text": [
      "499\n"
     ]
    }
   ],
   "source": [
    "price=soup2.find(class_='a-price-whole').get_text()\n",
    "price=price.strip()\n",
    "print(price)"
   ]
  },
  {
   "cell_type": "code",
   "execution_count": 38,
   "id": "eff78a90-b230-4562-a211-e39c21c54e7f",
   "metadata": {},
   "outputs": [
    {
     "name": "stdout",
     "output_type": "stream",
     "text": [
      "2024-07-10\n"
     ]
    }
   ],
   "source": [
    "import datetime\n",
    "current=datetime.date.today()\n",
    "print(current)"
   ]
  },
  {
   "cell_type": "code",
   "execution_count": 40,
   "id": "9f7140aa-e063-4194-ad26-17c0d5276e72",
   "metadata": {},
   "outputs": [],
   "source": [
    "import csv\n",
    "header=['Product','Cost','Date']\n",
    "data=[product,price,current]\n",
    "with open('amazonwebscraper.csv','w',newline='',encoding='UTF8') as f:\n",
    "    a=csv.writer(f)\n",
    "    a.writerow(header)\n",
    "    a.writerow(data)"
   ]
  },
  {
   "cell_type": "code",
   "execution_count": 85,
   "id": "ee157ff3-3ff3-4eae-b4e5-8be2866640c4",
   "metadata": {},
   "outputs": [
    {
     "name": "stdout",
     "output_type": "stream",
     "text": [
      "                              Product  Cost        Date\n",
      "0   DUDEME Code Coffee Repeat T-Shirt   499  2024-07-10\n",
      "1   DUDEME Code Coffee Repeat T-Shirt   499  2024-07-10\n",
      "2   DUDEME Code Coffee Repeat T-Shirt   499  2024-07-10\n",
      "3   DUDEME Code Coffee Repeat T-Shirt   499  2024-07-10\n",
      "4   DUDEME Code Coffee Repeat T-Shirt   499  2024-07-10\n",
      "5   DUDEME Code Coffee Repeat T-Shirt   499  2024-07-10\n",
      "6   DUDEME Code Coffee Repeat T-Shirt   499  2024-07-10\n",
      "7   DUDEME Code Coffee Repeat T-Shirt   499  2024-07-10\n",
      "8   DUDEME Code Coffee Repeat T-Shirt   499  2024-07-10\n",
      "9   DUDEME Code Coffee Repeat T-Shirt   499  2024-07-10\n",
      "10  DUDEME Code Coffee Repeat T-Shirt   499  2024-07-10\n",
      "11  DUDEME Code Coffee Repeat T-Shirt   499  2024-07-10\n",
      "12  DUDEME Code Coffee Repeat T-Shirt   499  2024-07-10\n",
      "13  DUDEME Code Coffee Repeat T-Shirt   499  2024-07-10\n"
     ]
    }
   ],
   "source": [
    "import pandas as pd\n",
    "df=pd.read_csv(\"C:/Users/manum/amazonwebscraper.csv\")\n",
    "print(df)"
   ]
  },
  {
   "cell_type": "code",
   "execution_count": 50,
   "id": "fb346bb1-5b53-4f53-af7c-41260efed9cb",
   "metadata": {},
   "outputs": [],
   "source": [
    "with open('amazonwebscraper.csv','a',newline='',encoding='UTF8') as f:\n",
    "    a=csv.writer(f)\n",
    "    a.writerow(data)"
   ]
  },
  {
   "cell_type": "code",
   "execution_count": 105,
   "id": "476d7a1e-bfde-46dd-b542-5322a49a3c76",
   "metadata": {},
   "outputs": [],
   "source": [
    "def check_price():\n",
    "    url='https://www.amazon.in/DUDEME-Coffee-Repeat-Programmer-Developer/dp/B08GJBS9NV/ref=sr_1_4?crid=2ML3C4VE5WN46&dib=eyJ2IjoiMSJ9.46qP4_2IROyCUU1GCDycFPKgaerTNUFDxGMEBRU1l8V_FJsA7cuo0qEaNbIOuHv1fe9OA44DxLPaukmzidArH6fCn69r0nMQUdqKxYkr5B1yJXUrbfy6GQ5cX4SXtjFKNT7k1tqrwsu7eh7u9j61fUnZ0CwnFOC_WkA9jFX1wz8uibkHiVUDqF-6M42xmePQfl-R0t-XY0PoeSwuMBv5zFlKjTtyDOo6rvR2TLs2hpzw9Y7iXsJ2Q758g360w88LvYPC_DKUtZ6sQEZMDu3HpqCcGEE0fr2f1GW-Ccy5znE.nts-IGOhXct--e8OrzZI_9eB7-eAziK2b5NFFC2TRlg&dib_tag=se&keywords=data+engineer+t+shirt&qid=1720540145&sprefix=dataengineer+tshirt%2Caps%2C267&sr=8-4'\n",
    "    headers={\"User-Agent\": \"Mozilla/5.0 (Windows NT 10.0; Win64; x64) AppleWebKit/537.36 (KHTML, like Gecko) Chrome/126.0.0.0 Safari/537.36\"}\n",
    "    page=requests.get(url,headers=headers)\n",
    "    soup1=BeautifulSoup(page.content,'html.parser')\n",
    "    soup2=BeautifulSoup(soup1.prettify(),'html.parser')\n",
    "    \n",
    "    title=soup2.find(id='productTitle').get_text()\n",
    "    product=title.strip().split(',')[0]\n",
    "    price=soup2.find(class_='a-price-whole').get_text()\n",
    "    price=price.strip()\n",
    "\n",
    "    import datetime\n",
    "    current=datetime.date.today()\n",
    "\n",
    "    import csv\n",
    "    header=['Product','Cost','Date']\n",
    "    data=[product,price,current]\n",
    "    with open('amazonwebscraper.csv','a+',newline='',encoding='UTF8') as f:\n",
    "        a=csv.writer(f)\n",
    "        a.writerow(data)\n",
    "        \n",
    "    if int(price)<500:\n",
    "        send_mail()\n",
    "\n",
    "    \n",
    "    "
   ]
  },
  {
   "cell_type": "code",
   "execution_count": 133,
   "id": "9c16748f-a958-4dc6-bf19-e72933a1d4b8",
   "metadata": {},
   "outputs": [
    {
     "ename": "KeyboardInterrupt",
     "evalue": "",
     "output_type": "error",
     "traceback": [
      "\u001b[1;31m---------------------------------------------------------------------------\u001b[0m",
      "\u001b[1;31mKeyboardInterrupt\u001b[0m                         Traceback (most recent call last)",
      "Cell \u001b[1;32mIn[133], line 4\u001b[0m\n\u001b[0;32m      2\u001b[0m \u001b[38;5;28;01mwhile\u001b[39;00m \u001b[38;5;28;01mTrue\u001b[39;00m:\n\u001b[0;32m      3\u001b[0m     check_price()\n\u001b[1;32m----> 4\u001b[0m     time\u001b[38;5;241m.\u001b[39msleep(\u001b[38;5;241m3\u001b[39m)\n",
      "\u001b[1;31mKeyboardInterrupt\u001b[0m: "
     ]
    }
   ],
   "source": [
    "import time\n",
    "while True:\n",
    "    check_price()\n",
    "    time.sleep(3)"
   ]
  },
  {
   "cell_type": "code",
   "execution_count": 131,
   "id": "e5705780-bde2-46ca-bfbc-146c3fd34a48",
   "metadata": {},
   "outputs": [],
   "source": [
    "import smtplib\n",
    "\n",
    "def send_mail():\n",
    "    server = smtplib.SMTP_SSL('smtp.gmail.com', 465)\n",
    "    server.ehlo()\n",
    "    server.ehlo()\n",
    "    server.login('manumogga117@gmail.com', 'slpp vvmn slie utgh')  # Replace 'your_app_password' with the generated app password\n",
    "\n",
    "    subject = \"The shirt you want is below 400. Let's check out\"\n",
    "    body = \"You have been waiting for this moment for a long time.\"\n",
    "\n",
    "    msg = f\"Subject: {subject}\\n\\n{body}\"\n",
    "\n",
    "    server.sendmail(\n",
    "        'manumogga117@gmail.com',\n",
    "        'manumogga117@gmail.com',\n",
    "        msg\n",
    "    )\n",
    "\n"
   ]
  },
  {
   "cell_type": "code",
   "execution_count": null,
   "id": "2af9de31-4110-4433-bcf1-32b2641f8c63",
   "metadata": {},
   "outputs": [],
   "source": []
  }
 ],
 "metadata": {
  "kernelspec": {
   "display_name": "Python 3 (ipykernel)",
   "language": "python",
   "name": "python3"
  },
  "language_info": {
   "codemirror_mode": {
    "name": "ipython",
    "version": 3
   },
   "file_extension": ".py",
   "mimetype": "text/x-python",
   "name": "python",
   "nbconvert_exporter": "python",
   "pygments_lexer": "ipython3",
   "version": "3.12.4"
  }
 },
 "nbformat": 4,
 "nbformat_minor": 5
}
